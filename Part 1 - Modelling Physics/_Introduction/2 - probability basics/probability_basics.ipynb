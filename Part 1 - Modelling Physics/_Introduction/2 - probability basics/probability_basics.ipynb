{
 "cells": [
  {
   "cell_type": "markdown",
   "metadata": {},
   "source": [
    "## Probability Distribution\n",
    "\n",
    "Our previous random walker, evenly distributed the chances of the walker going up, down, right or left. i.e. There was 25% chance of the walker going up, 25% chance of the walker going down, 25% chance of the walker going right and 25% chance of the walker going left.\n",
    "\n",
    "We can view this graphically through the script below"
   ]
  },
  {
   "cell_type": "code",
   "execution_count": 2,
   "metadata": {},
   "outputs": [
    {
     "data": {
      "image/png": "[encoded data removed]",
      "text/plain": [
       "<Figure size 640x480 with 1 Axes>"
      ]
     },
     "metadata": {},
     "output_type": "display_data"
    }
   ],
   "source": [
    "# import relevant libraries\n",
    "import random\n",
    "import matplotlib.pyplot as plt  # matplotlib is a graphing library.\n",
    "\n",
    "# a list to store our positions\n",
    "# Each index represents a position, i.e. Up, Down, Right, and Left\n",
    "position_count = [0, 0, 0, 0]\n",
    "x_coordinates = [0, 1, 2, 3]\n",
    "\n",
    "# we'll go through 10000 random events and increment the count for the relevant position\n",
    "for i in range(10000):\n",
    "    position = random.randrange(0, 4)\n",
    "\n",
    "    position_count[position] += 1\n",
    "\n",
    "plt.bar(x_coordinates, position_count)\n",
    "plt.show()\n"
   ]
  },
  {
   "cell_type": "markdown",
   "metadata": {},
   "source": [
    "We can see from the probability distribution graph above that all positions are equally likely to be traversed. But can we create un-even probabilities?\n",
    "\n",
    "## Exercise I.1\n",
    "Create a random walker that has a tendency to move down and to the right. "
   ]
  },
  {
   "cell_type": "code",
   "execution_count": 3,
   "metadata": {},
   "outputs": [],
   "source": [
    "choice = random.random()\n",
    "\n",
    "# 15% chance of going North (Up)\n",
    "if choice <= 0.15:\n",
    "    direction = 'N'\n",
    "    \n",
    "# 35% chance of going East (Right)\n",
    "elif 0.15 < choice <= 0.50:\n",
    "    direction = 'E'\n",
    "    \n",
    "# 35% chance of going South (Down)\n",
    "elif 0.50 < choice <= 0.85:\n",
    "    direction = 'S'\n",
    "\n",
    "# 15% chance of going West (Left)\n",
    "else:\n",
    "    direction = 'W'"
   ]
  }
 ],
 "metadata": {
  "kernelspec": {
   "display_name": "Python 3.8.9 ('venv': venv)",
   "language": "python",
   "name": "python3"
  },
  "language_info": {
   "codemirror_mode": {
    "name": "ipython",
    "version": 3
   },
   "file_extension": ".py",
   "mimetype": "text/x-python",
   "name": "python",
   "nbconvert_exporter": "python",
   "pygments_lexer": "ipython3",
   "version": "3.8.9"
  },
  "orig_nbformat": 4,
  "vscode": {
   "interpreter": {
    "hash": "b2f21c1aa89bddf8904cd50c19c8c3a0f645cb7fb67cb94187436ce0f8af7d86"
   }
  }
 },
 "nbformat": 4,
 "nbformat_minor": 2
}
